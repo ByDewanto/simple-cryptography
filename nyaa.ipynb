{
 "cells": [
  {
   "cell_type": "markdown",
   "metadata": {},
   "source": [
    "You are asked to create a Substitution and Transposition implementation program as the group division yesterday. Make sure in this assignment, you make the program stages as explained earlier using google colabs or Jupyter Notebooks. The final result of this assignment is an ipynb file.\n",
    "\n",
    "The program stages that must exist are as follows.\n",
    "\n",
    "1. Plaintext input process <1 long sentence>\n",
    "2. Key input process <1 long sentence>\n",
    "3. Key preparation process which is used to find the alphabetical order of keys\n",
    "4. The process of arranging plaintext in the sequence of available keys\n",
    "5. Ciphertext finding process\n"
   ]
  },
  {
   "cell_type": "markdown",
   "metadata": {},
   "source": [
    "Kriptografi Subtitusi:\n",
    "  1. Caesar Chiper\n",
    "  2. ROT 13\n",
    "  3. Chiper abjad-tunggal\n",
    "  4. Chiper substitusi homofonik\n",
    "  5. Chiper abjad-majemuk\n",
    "  6. Chiper substitusi poligram"
   ]
  },
  {
   "cell_type": "markdown",
   "metadata": {},
   "source": [
    "Kriptografi Transposisi:\n",
    "  1. Transposisi Rail Fence\n",
    "  2. Transposisi Route\n",
    "  3. Transposisi Kolom\n",
    "  4. Transposisi Ganda\n",
    "  5. Transposisi Myszkowski"
   ]
  },
  {
   "cell_type": "code",
   "execution_count": 3,
   "metadata": {},
   "outputs": [],
   "source": [
    "# tools\n",
    "alphabet =[\"a\", \"b\", \"c\", \"d\", \"e\", \"f\", \"g\", \"h\", \"i\", \"j\", \"k\", \"l\", \"m\", \"n\", \"o\", \"p\", \"q\", \"r\", \"s\", \"t\", \"u\", \"v\", \"w\", \"x\", \"y\", \"z\"]\n",
    "\n",
    "def string_to_list(text):\n",
    "    list = []\n",
    "    for i in text:\n",
    "        list.append(i)\n",
    "    return list\n",
    "\n",
    "def remove_duplicate(list):\n",
    "    new_set = []\n",
    "    new_set.append(list[0])\n",
    "    for i in list:\n",
    "        k = 0\n",
    "        for j in new_set:\n",
    "            if i == ' ':\n",
    "                continue\n",
    "            if i == j:\n",
    "                continue\n",
    "            if k == len(new_set)-1:\n",
    "                new_set.append(i)\n",
    "            k += 1\n",
    "    return new_set\n",
    "\n",
    "alphabet_to_number = {\n",
    "    'A': [1],\n",
    "    'B': [2],\n",
    "    'C': [3],\n",
    "    'D': [4],\n",
    "    'E': [5],\n",
    "    'F': [6],\n",
    "    'G': [7],\n",
    "    'H': [8],\n",
    "    'I': [9],\n",
    "    'J': [10],\n",
    "    'K': [11],\n",
    "    'L': [12],\n",
    "    'M': [13],\n",
    "    'N': [14],\n",
    "    'O': [15],\n",
    "    'P': [16],\n",
    "    'Q': [17],\n",
    "    'R': [18],\n",
    "    'S': [19],\n",
    "    'T': [20],\n",
    "    'U': [21],\n",
    "    'V': [22],\n",
    "    'W': [23],\n",
    "    'X': [24],\n",
    "    'Y': [25],\n",
    "    'Z': [26],\n",
    "}"
   ]
  },
  {
   "cell_type": "code",
   "execution_count": 2,
   "metadata": {},
   "outputs": [
    {
     "name": "stdout",
     "output_type": "stream",
     "text": [
      "cdefghij\n"
     ]
    }
   ],
   "source": [
    "# 1. Caesar Chiper - Encrypt\n",
    "rawplaintext = input(\"input plaintext: \")\n",
    "plaintext = string_to_list(rawplaintext)\n",
    "\n",
    "# subtitusi\n",
    "key = input(\"input key: \")\n",
    "key = int(key)\n",
    "chipertext = \"\"\n",
    "for i in range(len(plaintext)):\n",
    "    key2 = i + key\n",
    "    if key2 > 26:\n",
    "        key2 = key2 % 26\n",
    "    for j in range(len(alphabet)):\n",
    "        if plaintext[i] == alphabet[j]:\n",
    "            chipertext += alphabet[key2]\n",
    "            break\n",
    "\n",
    "print(chipertext)"
   ]
  },
  {
   "cell_type": "code",
   "execution_count": 3,
   "metadata": {},
   "outputs": [
    {
     "name": "stdout",
     "output_type": "stream",
     "text": [
      "nyahallo\n"
     ]
    }
   ],
   "source": [
    "# 1. Caesar Chiper - Decrypt\n",
    "newplaintext = \"\"\n",
    "chipertextchange = string_to_list(newplaintext)\n",
    "\n",
    "for i in range(len(chipertextchange)):\n",
    "    key2 = i - key\n",
    "    if key2 < 0:\n",
    "        key2 = key2 + 26\n",
    "    for j in range(len(alphabet)):\n",
    "        if chipertextchange[i] == alphabet[j]:\n",
    "            newplaintext += alphabet[key2]\n",
    "            break\n",
    "\n",
    "print(rawplaintext)"
   ]
  },
  {
   "cell_type": "code",
   "execution_count": 3,
   "metadata": {},
   "outputs": [
    {
     "name": "stdout",
     "output_type": "stream",
     "text": [
      "nopqrs\n"
     ]
    }
   ],
   "source": [
    "# 2 ROT 13\n",
    "rawplaintext = input(\"input plaintext: \")\n",
    "plaintext = string_to_list(rawplaintext)\n",
    "\n",
    "# subtitusi\n",
    "key = 13\n",
    "chipertext = \"\"\n",
    "for i in range(len(plaintext)):\n",
    "    key2 = i + key\n",
    "    if key2 > 26:\n",
    "        key2 = key2 % 26\n",
    "    for j in range(len(alphabet)):\n",
    "        if plaintext[i] == alphabet[j]:\n",
    "            chipertext += alphabet[key2]\n",
    "            break\n",
    "\n",
    "print(chipertext)"
   ]
  },
  {
   "cell_type": "code",
   "execution_count": 4,
   "metadata": {},
   "outputs": [
    {
     "name": "stdout",
     "output_type": "stream",
     "text": [
      "ohayou\n"
     ]
    }
   ],
   "source": [
    "# 2 ROT 13 - Decrypt\n",
    "newplaintext = \"\"\n",
    "chipertextchange = string_to_list(newplaintext)\n",
    "\n",
    "for i in range(len(chipertextchange)):\n",
    "    key2 = i - key\n",
    "    if key2 < 0:\n",
    "        key2 = key2 + 26\n",
    "    for j in range(len(alphabet)):\n",
    "        if chipertextchange[i] == alphabet[j]:\n",
    "            newplaintext += alphabet[key2]\n",
    "            break\n",
    "\n",
    "print(rawplaintext)"
   ]
  },
  {
   "cell_type": "code",
   "execution_count": 32,
   "metadata": {},
   "outputs": [
    {
     "name": "stdout",
     "output_type": "stream",
     "text": [
      "cxtvtaad\n"
     ]
    }
   ],
   "source": [
    "# 3 Chiper Abjad Tunggal - Encrypt\n",
    "rawplaintext = input(\"input plaintext: \")\n",
    "plaintext = string_to_list(rawplaintext)\n",
    "key = input(\"input key: \")\n",
    "\n",
    "key2 = []\n",
    "key2 = string_to_list(key)\n",
    "\n",
    "for i in alphabet:\n",
    "    key2.append(i)\n",
    "\n",
    "key2 = remove_duplicate(key2)\n",
    "\n",
    "chipertext = \"\"\n",
    "for i in range(len(plaintext)):\n",
    "    for j in range(len(alphabet)):\n",
    "        if plaintext[i] == alphabet[j]:\n",
    "            chipertext += key2[j]\n",
    "            continue\n",
    "\n",
    "print(chipertext)"
   ]
  },
  {
   "cell_type": "code",
   "execution_count": 33,
   "metadata": {},
   "outputs": [
    {
     "name": "stdout",
     "output_type": "stream",
     "text": [
      "nyahallo\n"
     ]
    }
   ],
   "source": [
    "# 3 Chiper Abjad Tunggal - Decrypt\n",
    "newplaintext = \"\"\n",
    "chipertextchange = string_to_list(chipertext)\n",
    "\n",
    "for i in range(len(chipertextchange)):\n",
    "    for j in range(len(key2)):\n",
    "        if chipertextchange[i] == key2[j]:\n",
    "            newplaintext += alphabet[j]\n",
    "            continue\n",
    "\n",
    "print(newplaintext)"
   ]
  },
  {
   "cell_type": "code",
   "execution_count": 4,
   "metadata": {},
   "outputs": [
    {
     "name": "stdout",
     "output_type": "stream",
     "text": [
      "BGCJCVDKBRBUCTDTCS\n"
     ]
    }
   ],
   "source": [
    "# 4 Chiper Substitusi Homofonik - Encrypt\n",
    "import random\n",
    "homophonic_chiper = {\n",
    "    'A': ['BU', 'CP', 'AV', 'AH', 'BT', 'BS', 'CQ'],\n",
    "    'B': ['AT'],\n",
    "    'C': ['DL', 'BK', 'AU'],\n",
    "    'D': ['BV', 'DY', 'DM', 'AI'],\n",
    "    'E': ['DK', 'CO', 'AW', 'BL', 'AA', 'CR', 'BM', 'CS', 'AF', 'AG', 'BO', 'BN', 'BE'],\n",
    "    'F': ['BW', 'CM', 'CN'],\n",
    "    'G': ['DN', 'BJ'],\n",
    "    'H': ['AS', 'CL', 'CK'],\n",
    "    'I': ['DJ', 'BI', 'AX', 'CJ', 'AB', 'BP', 'CU', 'CT'],\n",
    "    'J': ['BX'],\n",
    "    'K': ['DI'],\n",
    "    'L': ['AR', 'BH', 'CI', 'AJ'],\n",
    "    'M': ['DH', 'BG', 'AY'],\n",
    "    'N': ['BY', 'DG', 'DF', 'CH', 'AC', 'BR', 'DU', 'DT'],\n",
    "    'O': ['DZ', 'BF', 'DX', 'AK', 'CG', 'BQ', 'DR'],\n",
    "    'P': ['BZ', 'DE', 'AZ'],\n",
    "    'Q': ['DD'],\n",
    "    'R': ['AQ', 'DC', 'DQ', 'AL', 'CE', 'CF', 'CV', 'DS'],\n",
    "    'S': ['AP', 'AN', 'AO', 'CD', 'DW', 'DV'],\n",
    "    'T': ['CB', 'DB', 'DP', 'CC', 'AD', 'CY', 'CW', 'CX', 'AE'],\n",
    "    'U': ['CA', 'AM', 'BA'],\n",
    "    'V': ['BB'],\n",
    "    'W': ['CZ'],\n",
    "    'X': ['BD'],\n",
    "    'Y': ['DO', 'DA'],\n",
    "    'Z': ['BC'],\n",
    "}\n",
    "\n",
    "rawplaintext = input(\"input plainte: \")\n",
    "plaintext = string_to_list(rawplaintext)\n",
    "\n",
    "chipertext = \"\"\n",
    "\n",
    "for i in plaintext:\n",
    "    if i.upper() in homophonic_chiper:\n",
    "        substitute = random.choice(homophonic_chiper[i.upper()])\n",
    "        chipertext += substitute\n",
    "\n",
    "print(chipertext)"
   ]
  },
  {
   "cell_type": "code",
   "execution_count": 5,
   "metadata": {},
   "outputs": [
    {
     "name": "stdout",
     "output_type": "stream",
     "text": [
      "MIRENAINE\n"
     ]
    }
   ],
   "source": [
    "# 4 Chiper Substitusi Homofonik - Decrypt\n",
    "reverse_homophonic_chiper = {substitute: char for char, substitutes in homophonic_chiper.items() for substitute in substitutes}\n",
    "newplaintext = \"\"\n",
    "\n",
    "texts, text = [], []\n",
    "\n",
    "for i in range(0, len(chipertext), 2):\n",
    "    text = chipertext[i] + chipertext[i+1]\n",
    "    texts.append(text)\n",
    "\n",
    "for chunk in texts:\n",
    "    if chunk in reverse_homophonic_chiper:\n",
    "        original_char = reverse_homophonic_chiper[chunk]\n",
    "        newplaintext += original_char\n",
    "    else:\n",
    "        newplaintext += chunk\n",
    "\n",
    "print(newplaintext)"
   ]
  },
  {
   "cell_type": "code",
   "execution_count": null,
   "metadata": {},
   "outputs": [],
   "source": [
    "# 5. Chiper Abjad Majemuk - Vigenere Chiper - Encrypt\n"
   ]
  }
 ],
 "metadata": {
  "kernelspec": {
   "display_name": "Python 3",
   "language": "python",
   "name": "python3"
  },
  "language_info": {
   "codemirror_mode": {
    "name": "ipython",
    "version": 3
   },
   "file_extension": ".py",
   "mimetype": "text/x-python",
   "name": "python",
   "nbconvert_exporter": "python",
   "pygments_lexer": "ipython3",
   "version": "3.11.4"
  }
 },
 "nbformat": 4,
 "nbformat_minor": 2
}
