{
 "cells": [
  {
   "cell_type": "markdown",
   "metadata": {},
   "source": [
    "You are asked to create a Substitution and Transposition implementation program as the group division yesterday. Make sure in this assignment, you make the program stages as explained earlier using google colabs or Jupyter Notebooks. The final result of this assignment is an ipynb file.\n",
    "\n",
    "The program stages that must exist are as follows.\n",
    "\n",
    "1. Plaintext input process <1 long sentence>\n",
    "2. Key input process <1 long sentence>\n",
    "3. Key preparation process which is used to find the alphabetical order of keys\n",
    "4. The process of arranging plaintext in the sequence of available keys\n",
    "5. Ciphertext finding process\n"
   ]
  },
  {
   "cell_type": "markdown",
   "metadata": {},
   "source": [
    "Kriptografi Subtitusi:\n",
    "  1. Chiper abbjad-tunggal\n",
    "  2. Chiper substitusi homofonik\n",
    "  3. Chiper abjad-majemuk\n",
    "  4. Chiper substitusi poligram"
   ]
  },
  {
   "cell_type": "markdown",
   "metadata": {},
   "source": [
    "Kriptografi Transposisi:\n",
    "  1. Transposisi Rail Fence\n",
    "  2. Transposisi Route\n",
    "  3. Transposisi Kolom\n",
    "  4. Transposisi Ganda\n",
    "  5. Transposisi Myszkowski"
   ]
  },
  {
   "cell_type": "code",
   "execution_count": 2,
   "metadata": {},
   "outputs": [],
   "source": [
    "# tools\n",
    "alphabet =[\"a\", \"b\", \"c\", \"d\", \"e\", \"f\", \"g\", \"h\", \"i\", \"j\", \"k\", \"l\", \"m\", \"n\", \"o\", \"p\", \"q\", \"r\", \"s\", \"t\", \"u\", \"v\", \"w\", \"x\", \"y\", \"z\"]\n",
    "\n",
    "def string_to_list(text):\n",
    "    list = []\n",
    "    for i in text:\n",
    "        list.append(i)\n",
    "    return list\n",
    "\n",
    "def remove_duplicate(list):\n",
    "    new_set = []\n",
    "    new_set.append(list[0])\n",
    "    for i in list:\n",
    "        k = 0\n",
    "        for j in new_set:\n",
    "            if i == ' ':\n",
    "                continue\n",
    "            if i == j:\n",
    "                continue\n",
    "            if k == len(new_set)-1:\n",
    "                new_set.append(i)\n",
    "            k += 1\n",
    "    return new_set"
   ]
  },
  {
   "cell_type": "code",
   "execution_count": 2,
   "metadata": {},
   "outputs": [
    {
     "name": "stdout",
     "output_type": "stream",
     "text": [
      "cdefghij\n"
     ]
    }
   ],
   "source": [
    "# 1. Caesar Chiper - Encrypt\n",
    "rawplaintext = input(\"input plaintext: \")\n",
    "plaintext = string_to_list(rawplaintext)\n",
    "\n",
    "# subtitusi\n",
    "key = input(\"input key: \")\n",
    "key = int(key)\n",
    "chipertext = \"\"\n",
    "for i in range(len(plaintext)):\n",
    "    key2 = i + key\n",
    "    if key2 > 26:\n",
    "        key2 = key2 % 26\n",
    "    for j in range(len(alphabet)):\n",
    "        if plaintext[i] == alphabet[j]:\n",
    "            chipertext += alphabet[key2]\n",
    "            break\n",
    "\n",
    "print(chipertext)"
   ]
  },
  {
   "cell_type": "code",
   "execution_count": 3,
   "metadata": {},
   "outputs": [
    {
     "name": "stdout",
     "output_type": "stream",
     "text": [
      "nyahallo\n"
     ]
    }
   ],
   "source": [
    "# 1. Caesar Chiper - Decrypt\n",
    "newplaintext = \"\"\n",
    "chipertextchange = string_to_list(newplaintext)\n",
    "\n",
    "for i in range(len(chipertextchange)):\n",
    "    key2 = i - key\n",
    "    if key2 < 0:\n",
    "        key2 = key2 + 26\n",
    "    for j in range(len(alphabet)):\n",
    "        if chipertextchange[i] == alphabet[j]:\n",
    "            newplaintext += alphabet[key2]\n",
    "            break\n",
    "\n",
    "print(rawplaintext)"
   ]
  },
  {
   "cell_type": "code",
   "execution_count": 3,
   "metadata": {},
   "outputs": [
    {
     "name": "stdout",
     "output_type": "stream",
     "text": [
      "nopqrs\n"
     ]
    }
   ],
   "source": [
    "# 2 ROT 13\n",
    "rawplaintext = input(\"input plaintext: \")\n",
    "plaintext = string_to_list(rawplaintext)\n",
    "\n",
    "# subtitusi\n",
    "key = 13\n",
    "chipertext = \"\"\n",
    "for i in range(len(plaintext)):\n",
    "    key2 = i + key\n",
    "    if key2 > 26:\n",
    "        key2 = key2 % 26\n",
    "    for j in range(len(alphabet)):\n",
    "        if plaintext[i] == alphabet[j]:\n",
    "            chipertext += alphabet[key2]\n",
    "            break\n",
    "\n",
    "print(chipertext)"
   ]
  },
  {
   "cell_type": "code",
   "execution_count": 4,
   "metadata": {},
   "outputs": [
    {
     "name": "stdout",
     "output_type": "stream",
     "text": [
      "ohayou\n"
     ]
    }
   ],
   "source": [
    "# 2 ROT 13 - Decrypt\n",
    "newplaintext = \"\"\n",
    "chipertextchange = string_to_list(newplaintext)\n",
    "\n",
    "for i in range(len(chipertextchange)):\n",
    "    key2 = i - key\n",
    "    if key2 < 0:\n",
    "        key2 = key2 + 26\n",
    "    for j in range(len(alphabet)):\n",
    "        if chipertextchange[i] == alphabet[j]:\n",
    "            newplaintext += alphabet[key2]\n",
    "            break\n",
    "\n",
    "print(rawplaintext)"
   ]
  },
  {
   "cell_type": "code",
   "execution_count": 32,
   "metadata": {},
   "outputs": [
    {
     "name": "stdout",
     "output_type": "stream",
     "text": [
      "cxtvtaad\n"
     ]
    }
   ],
   "source": [
    "# 3 Chiper Abjad Tunggal - Encrypt\n",
    "rawplaintext = input(\"input plaintext: \")\n",
    "plaintext = string_to_list(rawplaintext)\n",
    "key = input(\"input key: \")\n",
    "\n",
    "key2 = []\n",
    "key2 = string_to_list(key)\n",
    "\n",
    "for i in alphabet:\n",
    "    key2.append(i)\n",
    "\n",
    "key2 = remove_duplicate(key2)\n",
    "\n",
    "chipertext = \"\"\n",
    "for i in range(len(plaintext)):\n",
    "    for j in range(len(alphabet)):\n",
    "        if plaintext[i] == alphabet[j]:\n",
    "            chipertext += key2[j]\n",
    "            continue\n",
    "\n",
    "print(chipertext)"
   ]
  },
  {
   "cell_type": "code",
   "execution_count": 33,
   "metadata": {},
   "outputs": [
    {
     "name": "stdout",
     "output_type": "stream",
     "text": [
      "nyahallo\n"
     ]
    }
   ],
   "source": [
    "# 3 Chiper Abjad Tunggal - Decrypt\n",
    "newplaintext = \"\"\n",
    "chipertextchange = string_to_list(chipertext)\n",
    "\n",
    "for i in range(len(chipertextchange)):\n",
    "    for j in range(len(key2)):\n",
    "        if chipertextchange[i] == key2[j]:\n",
    "            newplaintext += alphabet[j]\n",
    "            continue\n",
    "\n",
    "print(newplaintext)"
   ]
  },
  {
   "cell_type": "code",
   "execution_count": 15,
   "metadata": {},
   "outputs": [
    {
     "ename": "NameError",
     "evalue": "name 'homophonic_chiper' is not defined",
     "output_type": "error",
     "traceback": [
      "\u001b[1;31m---------------------------------------------------------------------------\u001b[0m",
      "\u001b[1;31mNameError\u001b[0m                                 Traceback (most recent call last)",
      "\u001b[1;32mByDewanto\\simple-cryptography\\nyaa.ipynb Cell 11\u001b[0m line \u001b[0;36m4\n\u001b[0;32m     <a href='vscode-notebook-cell://github/ByDewanto/simple-cryptography/nyaa.ipynb#X13sdnNjb2RlLXZmcw%3D%3D?line=39'>40</a>\u001b[0m             chipertext \u001b[39m+\u001b[39m\u001b[39m=\u001b[39m substitute\n\u001b[0;32m     <a href='vscode-notebook-cell://github/ByDewanto/simple-cryptography/nyaa.ipynb#X13sdnNjb2RlLXZmcw%3D%3D?line=40'>41</a>\u001b[0m         \u001b[39mreturn\u001b[39;00m chipertext\n\u001b[1;32m---> <a href='vscode-notebook-cell://github/ByDewanto/simple-cryptography/nyaa.ipynb#X13sdnNjb2RlLXZmcw%3D%3D?line=42'>43</a>\u001b[0m nya \u001b[39m=\u001b[39m nyahallo(rawplaintext)\n\u001b[0;32m     <a href='vscode-notebook-cell://github/ByDewanto/simple-cryptography/nyaa.ipynb#X13sdnNjb2RlLXZmcw%3D%3D?line=43'>44</a>\u001b[0m \u001b[39mprint\u001b[39m(nya)\n",
      "\u001b[1;32mByDewanto\\simple-cryptography\\nyaa.ipynb Cell 11\u001b[0m line \u001b[0;36m3\n\u001b[0;32m     <a href='vscode-notebook-cell://github/ByDewanto/simple-cryptography/nyaa.ipynb#X13sdnNjb2RlLXZmcw%3D%3D?line=35'>36</a>\u001b[0m \u001b[39mfor\u001b[39;00m i \u001b[39min\u001b[39;00m text:\n\u001b[0;32m     <a href='vscode-notebook-cell://github/ByDewanto/simple-cryptography/nyaa.ipynb#X13sdnNjb2RlLXZmcw%3D%3D?line=36'>37</a>\u001b[0m     chipertext \u001b[39m=\u001b[39m \u001b[39m\"\u001b[39m\u001b[39m\"\u001b[39m\n\u001b[1;32m---> <a href='vscode-notebook-cell://github/ByDewanto/simple-cryptography/nyaa.ipynb#X13sdnNjb2RlLXZmcw%3D%3D?line=37'>38</a>\u001b[0m     \u001b[39mif\u001b[39;00m i\u001b[39m.\u001b[39mupper() \u001b[39min\u001b[39;00m homophonic_chiper:\n\u001b[0;32m     <a href='vscode-notebook-cell://github/ByDewanto/simple-cryptography/nyaa.ipynb#X13sdnNjb2RlLXZmcw%3D%3D?line=38'>39</a>\u001b[0m         substitute \u001b[39m=\u001b[39m random\u001b[39m.\u001b[39mchoice(homophonic_chiper[i\u001b[39m.\u001b[39mupper()])\n\u001b[0;32m     <a href='vscode-notebook-cell://github/ByDewanto/simple-cryptography/nyaa.ipynb#X13sdnNjb2RlLXZmcw%3D%3D?line=39'>40</a>\u001b[0m         chipertext \u001b[39m+\u001b[39m\u001b[39m=\u001b[39m substitute\n",
      "\u001b[1;31mNameError\u001b[0m: name 'homophonic_chiper' is not defined"
     ]
    }
   ],
   "source": [
    "# 4 Chiper Substitusi Homofonik - Encrypt\n",
    "import random\n",
    "homophonic_chiper:{\n",
    "    'A': ['BU', 'CP', 'AV', 'AH', 'BT', 'BS', 'CQ'],\n",
    "    'B': ['AT'],\n",
    "    'C': ['DL', 'BK', 'AU'],\n",
    "    'D': ['BV', 'DY', 'DM', 'AI'],\n",
    "    'E': ['DK', 'CO', 'AW', 'BL', 'AA', 'CR', 'BM', 'CS', 'AF', 'AG', 'BO', 'BN', 'BE'],\n",
    "    'F': ['BW', 'CM', 'CN'],\n",
    "    'G': ['DN', 'BJ'],\n",
    "    'H': ['AS', 'CL', 'CK'],\n",
    "    'I': ['DJ', 'BI', 'AX', 'CJ', 'AB', 'BP', 'CU', 'CT'],\n",
    "    'J': ['BX'],\n",
    "    'K': ['DI'],\n",
    "    'L': ['AR', 'BH', 'CI', 'AJ'],\n",
    "    'M': ['DH', 'BG', 'AY'],\n",
    "    'N': ['BY', 'DG', 'DF', 'CH', 'AC', 'BR', 'DU', 'DT'],\n",
    "    'O': ['DZ', 'BF', 'DX', 'AK', 'CG', 'BQ', 'DR'],\n",
    "    'P': ['BZ', 'DE', 'AZ'],\n",
    "    'Q': ['DD'],\n",
    "    'R': ['AQ', 'DC', 'DQ', 'AL', 'CE', 'CF', 'CV', 'DS'],\n",
    "    'S': ['AP', 'AN', 'AO', 'CD', 'DW', 'DV'],\n",
    "    'T': ['CB', 'DB', 'DP', 'CC', 'AD', 'CY', 'CW', 'CX', 'AE'],\n",
    "    'U': ['CA', 'AM', 'BA'],\n",
    "    'V': ['BB'],\n",
    "    'W': ['CZ'],\n",
    "    'X': ['BD'],\n",
    "    'Y': ['DO', 'DA'],\n",
    "    'Z': ['BC']\n",
    "}\n",
    "\n",
    "rawplaintext = input(\"input plainte: \")\n",
    "plaintext = string_to_list(rawplaintext)\n",
    "\n",
    "for i in rawplaintext:\n",
    "    chipertext = \"\"\n",
    "    if i.upper() in homophonic_chiper:\n",
    "        substitute = random.choice(homophonic_chiper[i.upper()])\n",
    "        chipertext += substitute\n",
    "\n",
    "print(chipertext)"
   ]
  },
  {
   "cell_type": "code",
   "execution_count": null,
   "metadata": {},
   "outputs": [],
   "source": [
    "import random\n",
    "\n",
    "# Define a dictionary where keys are plaintext characters\n",
    "# and values are lists of homophones (substitute characters)\n",
    "homophonic_cipher = {\n",
    "    'A': ['@', '4', '∆'],\n",
    "    'B': ['8', '6', 'ß'],\n",
    "    'C': ['(', '{', '©'],\n",
    "    'D': ['|)', 'Þ', '◊'],\n",
    "    'E': ['3', '€', 'є'],\n",
    "    # ... and so on for other characters\n",
    "}\n",
    "\n",
    "# Function to encrypt a message using the homophonic cipher\n",
    "def encrypt_homophonic(message):\n",
    "    encrypted_message = ''\n",
    "    for char in message:\n",
    "        # Check if the character is in the homophonic cipher dictionary\n",
    "        if char.upper() in homophonic_cipher:\n",
    "            # Choose a random homophone from the list of substitutes\n",
    "            substitute = random.choice(homophonic_cipher[char.upper()])\n",
    "            encrypted_message += substitute\n",
    "        else:\n",
    "            # If the character is not in the dictionary, keep it unchanged\n",
    "            encrypted_message += char\n",
    "    return encrypted_message\n",
    "\n",
    "# Example usage:\n",
    "message_to_encrypt = \"HELLO\"\n",
    "encrypted_message = encrypt_homophonic(message_to_encrypt)\n",
    "print(\"Original Message:\", message_to_encrypt)\n",
    "print(\"Encrypted Message:\", encrypted_message)\n",
    "\n",
    "nya"
   ]
  }
 ],
 "metadata": {
  "kernelspec": {
   "display_name": "Python 3",
   "language": "python",
   "name": "python3"
  },
  "language_info": {
   "codemirror_mode": {
    "name": "ipython",
    "version": 3
   },
   "file_extension": ".py",
   "mimetype": "text/x-python",
   "name": "python",
   "nbconvert_exporter": "python",
   "pygments_lexer": "ipython3",
   "version": "3.11.4"
  }
 },
 "nbformat": 4,
 "nbformat_minor": 2
}
