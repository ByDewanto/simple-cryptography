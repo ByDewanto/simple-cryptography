{
 "cells": [
  {
   "cell_type": "markdown",
   "metadata": {},
   "source": [
    "You are asked to create a Substitution and Transposition implementation program as the group division yesterday. Make sure in this assignment, you make the program stages as explained earlier using google colabs or Jupyter Notebooks. The final result of this assignment is an ipynb file.\n",
    "\n",
    "The program stages that must exist are as follows.\n",
    "\n",
    "1. Plaintext input process <1 long sentence>\n",
    "2. Key input process <1 long sentence>\n",
    "3. Key preparation process which is used to find the alphabetical order of keys\n",
    "4. The process of arranging plaintext in the sequence of available keys\n",
    "5. Ciphertext finding process\n"
   ]
  },
  {
   "cell_type": "markdown",
   "metadata": {},
   "source": [
    "Kriptografi Subtitusi:\n",
    "  1. Chiper abbjad-tunggal\n",
    "  2. Chiper substitusi homofonik\n",
    "  3. Chiper abjad-majemuk\n",
    "  4. Chiper substitusi poligram"
   ]
  },
  {
   "cell_type": "markdown",
   "metadata": {},
   "source": [
    "Kriptografi Transposisi:\n",
    "  1. Transposisi Rail Fence\n",
    "  2. Transposisi Route\n",
    "  3. Transposisi Kolom\n",
    "  4. Transposisi Ganda\n",
    "  5. Transposisi Myszkowski"
   ]
  },
  {
   "cell_type": "code",
   "execution_count": null,
   "metadata": {},
   "outputs": [],
   "source": [
    "# 1. Caesar Chiper - Encrypt\n",
    "alphabet =[\"a\", \"b\", \"c\", \"d\", \"e\", \"f\", \"g\", \"h\", \"i\", \"j\", \"k\", \"l\", \"m\", \"n\", \"o\", \"p\", \"q\", \"r\", \"s\", \"t\", \"u\", \"v\", \"w\", \"x\", \"y\", \"z\"]\n",
    "rawplaintext = input(\"input plaintext: \")\n",
    "plaintext = []\n",
    "for i in rawplaintext:\n",
    "    plaintext.append(i)\n",
    "\n",
    "# subtitusi\n",
    "key = input(\"input key: \")\n",
    "key = int(key)\n",
    "chipertext = \"\"\n",
    "for i in range(len(plaintext)):\n",
    "    key2 = i + key\n",
    "    if key2 > 26:\n",
    "        key2 = key2 % 26\n",
    "    for j in range(len(alphabet)):\n",
    "        if plaintext[i] == alphabet[j]:\n",
    "            chipertext += alphabet[key2]\n",
    "            break\n",
    "\n",
    "print(chipertext)"
   ]
  },
  {
   "cell_type": "code",
   "execution_count": null,
   "metadata": {},
   "outputs": [],
   "source": [
    "# 1. Caesar Chiper - Decrypt\n",
    "newplaintext = \"\"\n",
    "chipertextchange = []\n",
    "for i in chipertext:\n",
    "    chipertextchange.append(i)\n",
    "\n",
    "for i in range(len(chipertextchange)):\n",
    "    key2 = i - key\n",
    "    if key2 < 0:\n",
    "        key2 = key2 + 26\n",
    "    for j in range(len(alphabet)):\n",
    "        if chipertextchange[i] == alphabet[j]:\n",
    "            newplaintext += alphabet[key2]\n",
    "            break\n",
    "\n",
    "print(rawplaintext)"
   ]
  },
  {
   "cell_type": "code",
   "execution_count": 3,
   "metadata": {},
   "outputs": [
    {
     "name": "stdout",
     "output_type": "stream",
     "text": [
      "nopqrs\n"
     ]
    }
   ],
   "source": [
    "# 2 ROT 13\n",
    "alphabet =[\"a\", \"b\", \"c\", \"d\", \"e\", \"f\", \"g\", \"h\", \"i\", \"j\", \"k\", \"l\", \"m\", \"n\", \"o\", \"p\", \"q\", \"r\", \"s\", \"t\", \"u\", \"v\", \"w\", \"x\", \"y\", \"z\"]\n",
    "rawplaintext = input(\"input plaintext: \")\n",
    "plaintext = []\n",
    "for i in rawplaintext:\n",
    "    plaintext.append(i)\n",
    "\n",
    "# subtitusi\n",
    "key = 13\n",
    "chipertext = \"\"\n",
    "for i in range(len(plaintext)):\n",
    "    key2 = i + key\n",
    "    if key2 > 26:\n",
    "        key2 = key2 % 26\n",
    "    for j in range(len(alphabet)):\n",
    "        if plaintext[i] == alphabet[j]:\n",
    "            chipertext += alphabet[key2]\n",
    "            break\n",
    "\n",
    "print(chipertext)"
   ]
  },
  {
   "cell_type": "code",
   "execution_count": 4,
   "metadata": {},
   "outputs": [
    {
     "name": "stdout",
     "output_type": "stream",
     "text": [
      "ohayou\n"
     ]
    }
   ],
   "source": [
    "# 2 ROT 13 - Decrypt\n",
    "newplaintext = \"\"\n",
    "chipertextchange = []\n",
    "for i in chipertext:\n",
    "    chipertextchange.append(i)\n",
    "\n",
    "for i in range(len(chipertextchange)):\n",
    "    key2 = i - key\n",
    "    if key2 < 0:\n",
    "        key2 = key2 + 26\n",
    "    for j in range(len(alphabet)):\n",
    "        if chipertextchange[i] == alphabet[j]:\n",
    "            newplaintext += alphabet[key2]\n",
    "            break\n",
    "\n",
    "print(rawplaintext)"
   ]
  },
  {
   "cell_type": "code",
   "execution_count": null,
   "metadata": {},
   "outputs": [],
   "source": [
    "# 3. Chiper Abjad-Tunggal\n",
    "alphabet =[\"a\", \"b\", \"c\", \"d\", \"e\", \"f\", \"g\", \"h\", \"i\", \"j\", \"k\", \"l\", \"m\", \"n\", \"o\", \"p\", \"q\", \"r\", \"s\", \"t\", \"u\", \"v\", \"w\", \"x\", \"y\", \"z\"]\n",
    "rawplaintext = input(\"input text you wanna encrypt: \")\n",
    "key = input(\"Input key: \")"
   ]
  }
 ],
 "metadata": {
  "kernelspec": {
   "display_name": "Python 3",
   "language": "python",
   "name": "python3"
  },
  "language_info": {
   "codemirror_mode": {
    "name": "ipython",
    "version": 3
   },
   "file_extension": ".py",
   "mimetype": "text/x-python",
   "name": "python",
   "nbconvert_exporter": "python",
   "pygments_lexer": "ipython3",
   "version": "3.11.4"
  }
 },
 "nbformat": 4,
 "nbformat_minor": 2
}
